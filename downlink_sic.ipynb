{
 "cells": [
  {
   "cell_type": "code",
   "execution_count": 76,
   "metadata": {},
   "outputs": [],
   "source": [
    "import numpy as np\n",
    "import pandas as pd\n",
    "import random as rd\n",
    "import math as m\n",
    "import csv\n",
    "from matplotlib import pyplot as plt\n",
    "import warnings\n",
    "from sklearn.cluster import KMeans, DBSCAN\n",
    "from sklearn.metrics import silhouette_score\n",
    "from sklearn.mixture import GaussianMixture\n"
   ]
  },
  {
   "cell_type": "code",
   "execution_count": 77,
   "metadata": {},
   "outputs": [],
   "source": [
    "# Default parameters\n",
    "no_of_device = 10\n",
    "sub_channel = int(no_of_device / 2)\n",
    "radius = 200\n",
    "altitude = 100\n",
    "carrier_frequency = 1 * (10 ** 9)\n",
    "bandwidth = 1 * (10 ** 6)\n",
    "alpha = 2 * (10 ** (-28))\n",
    "mu = (10 ** 3)\n",
    "eta = 3.76\n",
    "task_offloading_bits = int(2 * (10 ** 1))\n",
    "# Task_Offloading_Bits = int(100)\n",
    "error_propagation = 10 ** (-6)\n",
    "max_execution_time = 0.01"
   ]
  },
  {
   "cell_type": "code",
   "execution_count": 78,
   "metadata": {},
   "outputs": [],
   "source": [
    "# Defining the noise power\n",
    "def noise_power(bandwidth):\n",
    "    noise_power_dBm = -174 + 10 * np.log10(bandwidth)\n",
    "    noise_power = (10 ** (-3)) * (10 ** (noise_power_dBm / 10))\n",
    "    return noise_power"
   ]
  },
  {
   "cell_type": "code",
   "execution_count": 79,
   "metadata": {},
   "outputs": [],
   "source": [
    "\n",
    "# Calculating the transmitting power\n",
    "def tx_power(tx):\n",
    "    tx_power = (10 ** (-3)) * (10 ** (tx / 10))\n",
    "    return tx_power"
   ]
  },
  {
   "cell_type": "code",
   "execution_count": 80,
   "metadata": {},
   "outputs": [],
   "source": [
    "# Base Station Location\n",
    "for i in range(1):\n",
    "    base_station =[]\n",
    "    np.random.seed(i)\n",
    "    arg  = 2 * np.pi * np.random.random(2)\n",
    "    base_station.append(arg)\n",
    "base_station = np.array(base_station)\n",
    "# print(base_station)\n"
   ]
  },
  {
   "cell_type": "code",
   "execution_count": 81,
   "metadata": {},
   "outputs": [],
   "source": [
    "# Device Location w.r.t ground\n",
    "device_loc =[]\n",
    "for i in range(no_of_device):\n",
    "    np.random.seed(i)\n",
    "    arg = 2 * np.pi * np.random.random(1)\n",
    "    np.random.seed(i)\n",
    "    device_r = radius * np.sqrt(np.random.random(1))\n",
    "    device_x = device_r * np.cos(arg)\n",
    "    device_y = device_r * np.sin(arg)\n",
    "    device_loc.append(device_x)\n",
    "    device_loc.append(device_y)\n",
    "    device_loc.append(device_r)\n",
    "device_loc = np.array(device_loc).reshape(no_of_device,3)\n",
    "# print(device_loc)\n",
    "\n",
    "# updating device radius w.r.t. the ground base station\n",
    "for i in range(no_of_device):\n",
    "    x_axis = device_loc[i][0] - base_station[0][0]\n",
    "    y_axis = device_loc[i][1] - base_station[0][1]\n",
    "    distance = np.sqrt(np.square(x_axis) + np.square(y_axis))\n",
    "    device_loc[i][2] = distance\n",
    "    # print(x_axis)\n",
    "    # print(y_axis)\n",
    "    # print(distance)\n",
    "# print(device_loc)\n",
    "\n",
    "# device location w.r.t altitude\n",
    "for i in range(no_of_device):\n",
    "    device_loc[i][2] = np.sqrt(np.square(altitude) + np.square(device_loc[i][2]))\n",
    "# print(device_loc)\n",
    "\n"
   ]
  },
  {
   "cell_type": "code",
   "execution_count": 82,
   "metadata": {},
   "outputs": [],
   "source": [
    "\n",
    "# Creating a dataframe \n",
    "columns = ['device_x','device_y','device_r']\n",
    "dataset = pd.DataFrame(device_loc,columns=columns)\n",
    "for i in range(no_of_device):\n",
    "    dataset['base_station_x'] = base_station[0][0]\n",
    "    dataset['base_station_y'] = base_station[0][1]\n",
    "dataset = dataset[['base_station_x','base_station_y','device_x','device_y','device_r']]\n",
    "\n",
    "# Saving the clustering dataframe\n",
    "# print(dataset.head())\n",
    "dataset.to_csv('bs_device_dataset.csv',index=False)"
   ]
  },
  {
   "cell_type": "code",
   "execution_count": 83,
   "metadata": {},
   "outputs": [],
   "source": [
    "# Fading for each bit transmitted i.e. [no of device * task offloading bits]\n",
    "channel_gain =[]\n",
    "abs_channel_gain =[]\n",
    "for i in range(no_of_device):\n",
    "    np.random.seed(i)\n",
    "    channel = np.sqrt(dataset['device_r'][i] ** (-eta)) * (np.random.randn(task_offloading_bits,1) + 1j * np.random.randn(task_offloading_bits,1))\n",
    "    channel_gain.append(channel)\n",
    "    abs_channel_gain.append(np.abs(channel)**2)\n",
    "channel_gain= np.array(channel_gain).reshape(no_of_device,task_offloading_bits)\n",
    "abs_channel_gain = np.array(abs_channel_gain).reshape(no_of_device,task_offloading_bits)\n",
    "abs_channel_gain = np.mean(abs_channel_gain,axis=1)\n",
    "# print(abs_channel_gain)\n",
    "# channel_gain_df.columns =['channel_gain']\n",
    "# dataset = pd.concat([dataset, channel_gain_df],axis=1)\n",
    "# print(channel_gain_df.head())\n",
    "# print(channel_gain)\n",
    "# print(np.shape(channel_gain))\n",
    "# print(channel_gain[0])\n",
    "# print(channel_gain[0][0])\n",
    "# print(abs_channel_gain[0])\n",
    "\n"
   ]
  },
  {
   "cell_type": "code",
   "execution_count": 84,
   "metadata": {},
   "outputs": [
    {
     "name": "stdout",
     "output_type": "stream",
     "text": [
      "[7.71655279e-09 8.81659841e-09 9.82297959e-09 6.44932187e-09\n",
      " 3.38297846e-09 1.62936013e-08 3.93025252e-09 4.55521668e-08\n",
      " 4.21611718e-09 6.27472986e-08]\n",
      "7.716552789096617e-09\n"
     ]
    }
   ],
   "source": [
    "print(abs_channel_gain)\n",
    "print(abs_channel_gain[0])"
   ]
  },
  {
   "cell_type": "code",
   "execution_count": 85,
   "metadata": {},
   "outputs": [
    {
     "data": {
      "image/png": "[encoded data removed]",
      "text/plain": [
       "<Figure size 576x432 with 1 Axes>"
      ]
     },
     "metadata": {
      "needs_background": "light"
     },
     "output_type": "display_data"
    },
    {
     "data": {
      "text/plain": [
       "<Figure size 432x288 with 0 Axes>"
      ]
     },
     "metadata": {},
     "output_type": "display_data"
    }
   ],
   "source": [
    "# Distributions of UE across the base station\n",
    "# print(dataset[['device_x','device_y']])\n",
    "plt.figure(figsize=(8,6))\n",
    "for i in range(no_of_device):\n",
    "    plt.scatter(dataset['device_x'][i],dataset['device_y'][i])\n",
    "plt.scatter(dataset['base_station_x'][0],dataset['base_station_y'][0],s=150,c='black',marker='x',label='BS')\n",
    "plt.xlabel('X-axis')\n",
    "plt.ylabel('Y-axis')\n",
    "plt.title('Distribution of UE across Base Station')\n",
    "plt.legend()\n",
    "plt.show()\n",
    "plt.savefig('user_distribution.png')"
   ]
  },
  {
   "cell_type": "code",
   "execution_count": 86,
   "metadata": {},
   "outputs": [
    {
     "name": "stdout",
     "output_type": "stream",
     "text": [
      "   base_station_x  base_station_y    device_x    device_y    device_r\n",
      "0        3.448297        4.493667 -141.249647  -44.733402  182.649389\n",
      "1        3.448297        4.493667 -111.994962   64.327355  164.034192\n",
      "2        3.448297        4.493667 -121.523997   51.688629  166.869525\n",
      "3        3.448297        4.493667 -140.935039  -46.575004  182.905869\n",
      "4        3.448297        4.493667  192.470330  -40.452016  218.516460\n",
      "5        3.448297        4.493667   16.496807   92.777057  134.030670\n",
      "6        3.448297        4.493667  147.754738 -117.825903  213.977630\n",
      "7        3.448297        4.493667   49.018408   25.485825  111.880765\n",
      "8        3.448297        4.493667  130.858084 -133.466618  212.758770\n",
      "9        3.448297        4.493667   20.327458    1.326879  101.463957\n",
      "101.46395727274688\n"
     ]
    }
   ],
   "source": [
    "print(dataset)\n",
    "print(dataset['device_r'][9])\n",
    "# print(dataset.sort_values(by='device_r'))"
   ]
  },
  {
   "cell_type": "code",
   "execution_count": 87,
   "metadata": {},
   "outputs": [],
   "source": [
    "# Near Far Pairing of Users\n",
    "dataset_nf_asc = dataset.sort_values(by='device_r')\n",
    "# print(dataset_nf_asc)\n",
    "# print(dataset_nf_asc.index)\n",
    "# print(dataset_nf_asc.index[0])\n",
    "# print(dataset_nf_asc[9])\n",
    "# print(dataset_nf_asc[dataset_nf_asc.index[0]])\n",
    "# near_far_pairing = np.zeros((no_of_device,1))\n",
    "# for i in range(no_of_device):\n",
    "#     near_far_pairing[i] = dataset_nf_asc.iloc[i]\n",
    "#     near_far_pairing[i+1] = dataset_nf_asc.iloc[no_of_device - (i+1)]\n",
    "# print(near_far_pairing)\n",
    "# print(dataset_nf_asc)\n",
    "# Random Pairing of Users\n",
    "np.random.seed(no_of_device)\n",
    "random_pairing = np.random.permutation(np.arange(0,no_of_device))\n",
    "\n"
   ]
  },
  {
   "cell_type": "code",
   "execution_count": 88,
   "metadata": {},
   "outputs": [
    {
     "name": "stdout",
     "output_type": "stream",
     "text": [
      "[2 9 6 4 0 3 1 7 8 5]\n",
      "9\n"
     ]
    }
   ],
   "source": [
    "np.random.seed(1)\n",
    "n = np.random.permutation(np.arange(0,no_of_device))\n",
    "print(n)\n",
    "print(n[1])"
   ]
  },
  {
   "cell_type": "code",
   "execution_count": 89,
   "metadata": {},
   "outputs": [
    {
     "data": {
      "text/plain": [
       "(10,)"
      ]
     },
     "execution_count": 89,
     "metadata": {},
     "output_type": "execute_result"
    }
   ],
   "source": [
    "random_pairing.shape\n"
   ]
  },
  {
   "cell_type": "code",
   "execution_count": 90,
   "metadata": {},
   "outputs": [],
   "source": [
    "# NOMA Power Allocation for paired users\n",
    "ue_power = np.zeros((no_of_device,1))\n",
    "def noma_ue_fixed_power(no_of_device,dataset_nf_asc):\n",
    "    for i in range(int(no_of_device)):\n",
    "        if(dataset_nf_asc.iloc[i]['device_r'] > dataset_nf_asc.iloc[no_of_device - (i+1)]['device_r']):\n",
    "            ue_power[i] = 0.75\n",
    "            ue_power[no_of_device - (i+1)] = 0.25\n",
    "        else:\n",
    "            ue_power[i] = 0.25\n",
    "            ue_power[no_of_device - (i+1)] = 0.75\n",
    "    return ue_power\n",
    "def noma_ue_fixed_power_rd(no_of_device,dataset_nf_asc,rd):\n",
    "    for i in range(int(no_of_device/2)):\n",
    "        if(dataset_nf_asc.iloc[rd[i]]['device_r'] > dataset_nf_asc.iloc[rd[i+1]]['device_r']):\n",
    "            ue_power[i] = 0.75\n",
    "            ue_power[i+1] = 0.25\n",
    "        else:\n",
    "            ue_power[i] = 0.25\n",
    "            ue_power[i+1] = 0.75\n",
    "    return ue_power"
   ]
  },
  {
   "cell_type": "code",
   "execution_count": 110,
   "metadata": {},
   "outputs": [
    {
     "name": "stdout",
     "output_type": "stream",
     "text": [
      "[[0.25]\n",
      " [0.25]\n",
      " [0.25]\n",
      " [0.25]\n",
      " [0.25]\n",
      " [0.75]\n",
      " [0.75]\n",
      " [0.75]\n",
      " [0.75]\n",
      " [0.75]]\n",
      "[8 2 5 6 3 1 0 7 4 9]\n",
      "[[0.75]\n",
      " [0.25]\n",
      " [0.25]\n",
      " [0.75]\n",
      " [0.75]\n",
      " [0.25]\n",
      " [0.75]\n",
      " [0.75]\n",
      " [0.75]\n",
      " [0.75]]\n",
      "[[0.75]\n",
      " [0.25]\n",
      " [0.25]\n",
      " [0.75]\n",
      " [0.75]\n",
      " [0.25]\n",
      " [0.75]\n",
      " [0.75]\n",
      " [0.75]\n",
      " [0.75]]\n"
     ]
    }
   ],
   "source": [
    "# NOMA power for NF user\n",
    "noma_power_nf = noma_ue_fixed_power(no_of_device=no_of_device,dataset_nf_asc=dataset_nf_asc)\n",
    "print(noma_power_nf)\n",
    "\n",
    "# NOMA power for RP user\n",
    "print(random_pairing)\n",
    "noma_power_rp = noma_ue_fixed_power_rd(no_of_device=no_of_device,dataset_nf_asc=dataset_nf_asc, rd=random_pairing)\n",
    "print(noma_power_rp)\n",
    "# print(dataset_nf_asc)\n",
    "print(noma_power_nf)\n"
   ]
  },
  {
   "cell_type": "code",
   "execution_count": 104,
   "metadata": {},
   "outputs": [],
   "source": [
    "def fun(x):\n",
    "    return x * x"
   ]
  },
  {
   "cell_type": "code",
   "execution_count": 93,
   "metadata": {},
   "outputs": [
    {
     "name": "stdout",
     "output_type": "stream",
     "text": [
      "[[0.75]\n",
      " [0.25]\n",
      " [0.25]\n",
      " [0.75]\n",
      " [0.75]\n",
      " [0.25]\n",
      " [0.75]\n",
      " [0.75]\n",
      " [0.75]\n",
      " [0.75]]\n"
     ]
    }
   ],
   "source": [
    "print(noma_power_nf)\n",
    "# print(noma_power_rp)"
   ]
  },
  {
   "cell_type": "code",
   "execution_count": 94,
   "metadata": {},
   "outputs": [],
   "source": [
    "bandwidth = bandwidth/(int(no_of_device/2))"
   ]
  },
  {
   "cell_type": "code",
   "execution_count": 95,
   "metadata": {},
   "outputs": [],
   "source": [
    "# Calculation of Capacity\n",
    "def capacity_fn(no_of_device,abs_channel_gain,ue_power,error_propagation,bandwidth):\n",
    "    rate = []\n",
    "    capacity =[]\n",
    "    for i,snr in enumerate(range(0,30,3)):\n",
    "        for j in range(no_of_device):\n",
    "            gamma = tx_power(snr) * abs_channel_gain[i]\n",
    "            cap = bandwidth * np.log2(1 + ((gamma * ue_power[j])/((error_propagation * gamma * ue_power[no_of_device -(j+1)]) + noise_power(bandwidth) )))\n",
    "            capacity.append(cap)\n",
    "        rate.append(np.mean(capacity))\n",
    "    rate = np.array(rate).reshape(len(range(0,30,3)))\n",
    "    return rate\n",
    "\n",
    "# print(capacity)\n",
    "# print(np.shape(rate))\n",
    "# print(rate)"
   ]
  },
  {
   "cell_type": "code",
   "execution_count": 96,
   "metadata": {},
   "outputs": [
    {
     "name": "stdout",
     "output_type": "stream",
     "text": [
      "[[0.75]\n",
      " [0.25]\n",
      " [0.25]\n",
      " [0.75]\n",
      " [0.75]\n",
      " [0.25]\n",
      " [0.75]\n",
      " [0.75]\n",
      " [0.75]\n",
      " [0.75]]\n",
      "[2468788.79169281 2586593.40350097 2701168.80024735 2777299.71964491\n",
      " 2825507.83175166 2952879.97460901 3020002.22643699 3131723.66523301\n",
      " 3197744.47418929 3275095.83052162]\n",
      "[[0.75]\n",
      " [0.25]\n",
      " [0.25]\n",
      " [0.75]\n",
      " [0.75]\n",
      " [0.25]\n",
      " [0.75]\n",
      " [0.75]\n",
      " [0.75]\n",
      " [0.75]]\n",
      "[2468788.79169281 2586593.40350097 2701168.80024735 2777299.71964491\n",
      " 2825507.83175166 2952879.97460901 3020002.22643699 3131723.66523301\n",
      " 3197744.47418929 3275095.83052162]\n"
     ]
    }
   ],
   "source": [
    "# For NF pairing, Calculating the capacity for no_of_device = 10\n",
    "print(noma_power_nf)\n",
    "capacity_nf = capacity_fn(no_of_device,abs_channel_gain,ue_power=noma_power_nf,error_propagation=error_propagation,bandwidth=bandwidth);\n",
    "print(capacity_nf)\n",
    "\n",
    "# For RP pairing, Calculating the capacity for no_of_device = 10\n",
    "print(noma_power_rp)\n",
    "capacity_rp = capacity_fn(no_of_device=no_of_device,abs_channel_gain=abs_channel_gain,\n",
    "                          ue_power=noma_power_rp,error_propagation=error_propagation,bandwidth=bandwidth);\n",
    "print(capacity_rp)"
   ]
  },
  {
   "cell_type": "code",
   "execution_count": 97,
   "metadata": {},
   "outputs": [],
   "source": [
    "# # Generating Random Bits for all devices\n",
    "# bit_generation = np.zeros((no_of_device,task_offloading_bits))\n",
    "# for i in range(no_of_device):\n",
    "#     for j in range(task_offloading_bits):\n",
    "#         rd.seed(i+j)\n",
    "#         bit_generation[i][j] = rd.randint(0,1)\n",
    "# # print(bit_generation)\n",
    "# # print(bit_generation[0])\n",
    "# # print(bit_generation[1])\n",
    "# # print(bit_generation[5][0])\n"
   ]
  },
  {
   "cell_type": "code",
   "execution_count": 98,
   "metadata": {},
   "outputs": [],
   "source": [
    "# # Modulation  - BPSK\n",
    "# mod_bit =np.zeros((no_of_device,task_offloading_bits))\n",
    "# for i in range(no_of_device):\n",
    "#     for j in range(task_offloading_bits):\n",
    "#         mod_bit[i][j] = (2 * bit_generation[i][j]) - 1\n",
    "# # print(mod_bit)\n",
    "# # print(mod_bit[0])\n",
    "# # print(mod_bit[3][2])"
   ]
  },
  {
   "cell_type": "code",
   "execution_count": 99,
   "metadata": {},
   "outputs": [],
   "source": [
    "# # Find the optimum number of cluster\n",
    "# sse  =[]\n",
    "# silh_score =[]\n",
    "# for k in range(2,(int(no_of_device/2)+ 1)):\n",
    "#     km = KMeans(n_clusters=k, random_state=0,init='k-means++',n_init='auto')\n",
    "#     km.fit(dataset.drop(columns=['channel_gain']))\n",
    "#     label = km.labels_\n",
    "#     sil_score = silhouette_score(dataset.drop(columns=['channel_gain']),label)\n",
    "#     # dataset['Cluster'] = label\n",
    "#     sse.append(km.inertia_)\n",
    "#     silh_score.append(sil_score)\n",
    "    "
   ]
  },
  {
   "cell_type": "code",
   "execution_count": 100,
   "metadata": {},
   "outputs": [],
   "source": [
    "# # Forming N/2 or N/2 + 1 Cluster\n",
    "# # k-mean clustering\n",
    "# # sse =[]\n",
    "# km = KMeans(n_clusters=int(no_of_device/2),random_state=0, init='k-means++',n_init='auto')\n",
    "# km.fit(dataset.drop(columns=['channel_gain']))\n",
    "# dataset['kcluster'] =km.labels_\n",
    "\n",
    "# #dbscan clustering\n",
    "# # label with -1 are outliers so will be considered as signel user\n",
    "# dbscan = DBSCAN(eps=50,min_samples=2, algorithm='auto')\n",
    "# dbscan.fit(dataset.drop(columns=['channel_gain']))\n",
    "# dataset['dbcluster'] =dbscan.labels_\n",
    "\n",
    "# #gmm clustering\n",
    "# gmm = GaussianMixture(n_components=int(no_of_device/2),covariance_type='full',init_params ='k-means++',random_state=0)\n",
    "# gmm.fit(dataset.drop(columns=['channel_gain']))\n",
    "# dataset['gmmcluster'] = gmm.predict(dataset.drop(columns=['channel_gain']))\n",
    "\n"
   ]
  },
  {
   "cell_type": "code",
   "execution_count": 101,
   "metadata": {},
   "outputs": [],
   "source": [
    "# # K Mean Clustering Plot\n",
    "# km = KMeans(n_clusters=20,random_state=0, init='k-means++',n_init='auto')\n",
    "# km.fit(dataset[['device_x','device_y']])\n",
    "# centroids = km.cluster_centers_\n",
    "# plt.figure(figsize=(8,6))\n",
    "# for i in range(no_of_device):\n",
    "#     plt.scatter(dataset['device_x'][i],dataset['device_y'][i])\n",
    "# plt.scatter(centroids[:,0],centroids[:,1],s=200,c='black',marker='x',label='Centroids')\n",
    "# plt.xlabel('X-axis')\n",
    "# plt.ylabel('Y-axis')\n",
    "# plt.title('K-Mean Clustering')\n",
    "# plt.legend()\n",
    "# plt.show()"
   ]
  },
  {
   "cell_type": "code",
   "execution_count": 102,
   "metadata": {},
   "outputs": [],
   "source": [
    "# # Elbow Method and Silhoutte Score Plot\n",
    "# plt.figure(figsize=(10,5))\n",
    "# plt.subplot(1,2,1)\n",
    "# plt.plot(range(2,(int(no_of_device/2)+ 1)),sse)\n",
    "# plt.xticks(np.arange(2,(int(no_of_device/2)+ 1),50))\n",
    "# plt.xlabel('Number of Clusters')\n",
    "# plt.ylabel('Inertia')\n",
    "# plt.title('Elbow Method for Cluster')\n",
    "# plt.savefig('Elbow.png')\n",
    "\n",
    "# plt.subplot(1,2,2)\n",
    "# plt.plot(range(2,(int(no_of_device/2)+ 1)),silh_score)\n",
    "# plt.xticks(np.arange(2,(int(no_of_device/2)+ 1),50))\n",
    "# plt.xlabel('Number of Clusters')\n",
    "# plt.ylabel('silhouette_score')\n",
    "# plt.title('silhouette Score for Cluster')\n",
    "# plt.savefig('silhouette_score.png')\n",
    "# plt.show()"
   ]
  },
  {
   "cell_type": "code",
   "execution_count": 103,
   "metadata": {},
   "outputs": [],
   "source": [
    "# # UE Locations\n",
    "# lambdaB = 10 ** (-7)\n",
    "# areaTotal = np.pi * (10000)**2\n",
    "# numbPoints = 1 + np.random.poisson(areaTotal * lambdaB)\n",
    "# theta = 2 * np.pi * np.random.rand(numbPoints)\n",
    "# rho = 1 + (10000 - 1) * np.sqrt(np.random.rand(numbPoints))\n",
    "# xx, yy = pol2cart(theta, rho)\n",
    "# print(xx,yy)\n",
    "# points=1\n",
    "# lambdaB1 = np.logspace(-7, -5, points)\n",
    "# print(lambdaB1)\n"
   ]
  }
 ],
 "metadata": {
  "kernelspec": {
   "display_name": "Python 3",
   "language": "python",
   "name": "python3"
  },
  "language_info": {
   "codemirror_mode": {
    "name": "ipython",
    "version": 3
   },
   "file_extension": ".py",
   "mimetype": "text/x-python",
   "name": "python",
   "nbconvert_exporter": "python",
   "pygments_lexer": "ipython3",
   "version": "3.9.0"
  }
 },
 "nbformat": 4,
 "nbformat_minor": 2
}
