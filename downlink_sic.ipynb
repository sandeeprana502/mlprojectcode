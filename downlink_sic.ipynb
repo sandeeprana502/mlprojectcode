{
 "cells": [
  {
   "cell_type": "code",
   "execution_count": null,
   "metadata": {},
   "outputs": [],
   "source": [
    "import numpy as np\n",
    "import pandas as pd\n",
    "import random as rd\n",
    "import math as m\n",
    "import csv\n",
    "from matplotlib import pyplot as plt\n",
    "import warnings\n",
    "from sklearn.cluster import KMeans, DBSCAN\n",
    "from sklearn.metrics import silhouette_score\n",
    "from sklearn.mixture import GaussianMixture\n"
   ]
  },
  {
   "cell_type": "code",
   "execution_count": null,
   "metadata": {},
   "outputs": [],
   "source": [
    "# Default parameters\n",
    "no_of_device = 10\n",
    "sub_channel = int(no_of_device / 2)\n",
    "radius = 200\n",
    "altitude = 100\n",
    "carrier_frequency = 1 * (10 ** 9)\n",
    "bandwidth = 1 * (10 ** 6)\n",
    "alpha = 2 * (10 ** (-28))\n",
    "mu = (10 ** 3)\n",
    "eta = 3.76\n",
    "task_offloading_bits = int(2 * (10 ** 1))\n",
    "# Task_Offloading_Bits = int(100)\n",
    "error_propagation = 10 ** (-6)\n",
    "max_execution_time = 0.01"
   ]
  },
  {
   "cell_type": "code",
   "execution_count": null,
   "metadata": {},
   "outputs": [],
   "source": [
    "# Defining the noise power\n",
    "def noise_power(bandwidth):\n",
    "    noise_power_dBm = -174 + 10 * np.log10(bandwidth)\n",
    "    noise_power = (10 ** (-3)) * (10 ** (noise_power_dBm / 10))\n",
    "    return noise_power"
   ]
  },
  {
   "cell_type": "code",
   "execution_count": null,
   "metadata": {},
   "outputs": [],
   "source": [
    "\n",
    "# Calculating the transmitting power\n",
    "def tx_power(tx):\n",
    "    tx_power = (10 ** (-3)) * (10 ** (tx / 10))\n",
    "    return tx_power"
   ]
  },
  {
   "cell_type": "code",
   "execution_count": null,
   "metadata": {},
   "outputs": [],
   "source": [
    "# Base Station Location\n",
    "for i in range(1):\n",
    "    base_station =[]\n",
    "    np.random.seed(i)\n",
    "    arg  = 2 * np.pi * np.random.random(2)\n",
    "    base_station.append(arg)\n",
    "base_station = np.array(base_station)\n",
    "# print(base_station)\n"
   ]
  },
  {
   "cell_type": "code",
   "execution_count": null,
   "metadata": {},
   "outputs": [],
   "source": [
    "# Device Location w.r.t ground\n",
    "device_loc =[]\n",
    "for i in range(no_of_device):\n",
    "    np.random.seed(i)\n",
    "    arg = 2 * np.pi * np.random.random(1)\n",
    "    np.random.seed(i)\n",
    "    device_r = radius * np.sqrt(np.random.random(1))\n",
    "    device_x = device_r * np.cos(arg)\n",
    "    device_y = device_r * np.sin(arg)\n",
    "    device_loc.append(device_x)\n",
    "    device_loc.append(device_y)\n",
    "    device_loc.append(device_r)\n",
    "device_loc = np.array(device_loc).reshape(no_of_device,3)\n",
    "# print(device_loc)\n",
    "\n",
    "# updating device radius w.r.t. the ground base station\n",
    "for i in range(no_of_device):\n",
    "    x_axis = device_loc[i][0] - base_station[0][0]\n",
    "    y_axis = device_loc[i][1] - base_station[0][1]\n",
    "    distance = np.sqrt(np.square(x_axis) + np.square(y_axis))\n",
    "    device_loc[i][2] = distance\n",
    "    # print(x_axis)\n",
    "    # print(y_axis)\n",
    "    # print(distance)\n",
    "# print(device_loc)\n",
    "\n",
    "# device location w.r.t altitude\n",
    "for i in range(no_of_device):\n",
    "    device_loc[i][2] = np.sqrt(np.square(altitude) + np.square(device_loc[i][2]))\n",
    "# print(device_loc)\n",
    "\n"
   ]
  },
  {
   "cell_type": "code",
   "execution_count": null,
   "metadata": {},
   "outputs": [],
   "source": [
    "# Creating a dataframe \n",
    "columns = ['device_x','device_y','device_r']\n",
    "dataset = pd.DataFrame(device_loc,columns=columns)\n",
    "for i in range(no_of_device):\n",
    "    dataset['base_station_x'] = base_station[0][0]\n",
    "    dataset['base_station_y'] = base_station[0][1]\n",
    "dataset = dataset[['base_station_x','base_station_y','device_x','device_y','device_r']]\n",
    "\n",
    "# Saving the clustering dataframe\n",
    "# print(dataset.head())\n",
    "dataset.to_csv('bs_device_dataset.csv',index=False)"
   ]
  },
  {
   "cell_type": "code",
   "execution_count": null,
   "metadata": {},
   "outputs": [],
   "source": [
    "# Fading for each bit transmitted i.e. [no of device * task offloading bits]\n",
    "channel_gain =[]\n",
    "abs_channel_gain =[]\n",
    "for i in range(no_of_device):\n",
    "    np.random.seed(i)\n",
    "    channel = np.sqrt(dataset['device_r'][i] ** (-eta)) * (np.random.randn(task_offloading_bits,1) + 1j * np.random.randn(task_offloading_bits,1))\n",
    "    channel_gain.append(channel)\n",
    "    abs_channel_gain.append(np.abs(channel)**2)\n",
    "channel_gain= np.array(channel_gain).reshape(no_of_device,task_offloading_bits)\n",
    "abs_channel_gain = np.array(abs_channel_gain).reshape(no_of_device,task_offloading_bits)\n",
    "# channel_gain_df.columns =['channel_gain']\n",
    "# dataset = pd.concat([dataset, channel_gain_df],axis=1)\n",
    "# print(channel_gain_df.head())\n",
    "# print(channel_gain)\n",
    "# print(np.shape(channel_gain))\n",
    "# print(channel_gain[0])\n",
    "# print(channel_gain[0][0])\n",
    "# print(abs_channel_gain[0])\n",
    "\n"
   ]
  },
  {
   "cell_type": "code",
   "execution_count": null,
   "metadata": {},
   "outputs": [],
   "source": [
    "# Distributions of UE across the base station\n",
    "# print(dataset[['device_x','device_y']])\n",
    "plt.figure(figsize=(8,6))\n",
    "for i in range(no_of_device):\n",
    "    plt.scatter(dataset['device_x'][i],dataset['device_y'][i])\n",
    "plt.scatter(dataset['base_station_x'][0],dataset['base_station_y'][0],s=150,c='black',marker='x',label='BS')\n",
    "plt.xlabel('X-axis')\n",
    "plt.ylabel('Y-axis')\n",
    "plt.title('Distribution of UE across Base Station')\n",
    "plt.legend()\n",
    "plt.show()\n",
    "plt.savefig('user_distribution.png')"
   ]
  },
  {
   "cell_type": "code",
   "execution_count": null,
   "metadata": {},
   "outputs": [],
   "source": [
    "# Generating Random Bits for all devices\n",
    "bit_generation = np.zeros((no_of_device,task_offloading_bits))\n",
    "for i in range(no_of_device):\n",
    "    for j in range(task_offloading_bits):\n",
    "        rd.seed(i+j)\n",
    "        bit_generation[i][j] = rd.randint(0,1)\n",
    "# print(bit_generation)\n",
    "# print(bit_generation[0])\n",
    "# print(bit_generation[1])\n",
    "# print(bit_generation[5][0])\n"
   ]
  },
  {
   "cell_type": "code",
   "execution_count": null,
   "metadata": {},
   "outputs": [],
   "source": [
    "# print(dataset['channel_gain'][1])"
   ]
  },
  {
   "cell_type": "code",
   "execution_count": null,
   "metadata": {},
   "outputs": [],
   "source": [
    "# Modulation  - BPSK\n",
    "mod_bit =np.zeros((no_of_device,task_offloading_bits))\n",
    "for i in range(no_of_device):\n",
    "    for j in range(task_offloading_bits):\n",
    "        mod_bit[i][j] = (2 * bit_generation[i][j]) - 1\n",
    "# print(mod_bit)\n",
    "# print(mod_bit[0])\n",
    "# print(mod_bit[3][2])"
   ]
  },
  {
   "cell_type": "code",
   "execution_count": null,
   "metadata": {},
   "outputs": [],
   "source": [
    "np.int(no_of_device/2) + 1"
   ]
  },
  {
   "cell_type": "code",
   "execution_count": null,
   "metadata": {},
   "outputs": [],
   "source": [
    "# Find the optimum number of cluster\n",
    "sse  =[]\n",
    "silh_score =[]\n",
    "for k in range(2,(int(no_of_device/2)+ 1)):\n",
    "    km = KMeans(n_clusters=k, random_state=0,init='k-means++',n_init='auto')\n",
    "    km.fit(dataset.drop(columns=['channel_gain']))\n",
    "    label = km.labels_\n",
    "    sil_score = silhouette_score(dataset.drop(columns=['channel_gain']),label)\n",
    "    # dataset['Cluster'] = label\n",
    "    sse.append(km.inertia_)\n",
    "    silh_score.append(sil_score)\n",
    "    "
   ]
  },
  {
   "cell_type": "code",
   "execution_count": null,
   "metadata": {},
   "outputs": [],
   "source": [
    "# Forming N/2 or N/2 + 1 Cluster\n",
    "# k-mean clustering\n",
    "# sse =[]\n",
    "km = KMeans(n_clusters=int(no_of_device/2),random_state=0, init='k-means++',n_init='auto')\n",
    "km.fit(dataset.drop(columns=['channel_gain']))\n",
    "dataset['kcluster'] =km.labels_\n",
    "\n",
    "#dbscan clustering\n",
    "# label with -1 are outliers so will be considered as signel user\n",
    "dbscan = DBSCAN(eps=50,min_samples=2, algorithm='auto')\n",
    "dbscan.fit(dataset.drop(columns=['channel_gain']))\n",
    "dataset['dbcluster'] =dbscan.labels_\n",
    "\n",
    "#gmm clustering\n",
    "gmm = GaussianMixture(n_components=int(no_of_device/2),covariance_type='full',init_params ='k-means++',random_state=0)\n",
    "gmm.fit(dataset.drop(columns=['channel_gain']))\n",
    "dataset['gmmcluster'] = gmm.predict(dataset.drop(columns=['channel_gain']))\n",
    "\n"
   ]
  },
  {
   "cell_type": "code",
   "execution_count": null,
   "metadata": {},
   "outputs": [],
   "source": [
    "# K Mean Clustering Plot\n",
    "km = KMeans(n_clusters=20,random_state=0, init='k-means++',n_init='auto')\n",
    "km.fit(dataset[['device_x','device_y']])\n",
    "centroids = km.cluster_centers_\n",
    "plt.figure(figsize=(8,6))\n",
    "for i in range(no_of_device):\n",
    "    plt.scatter(dataset['device_x'][i],dataset['device_y'][i])\n",
    "plt.scatter(centroids[:,0],centroids[:,1],s=200,c='black',marker='x',label='Centroids')\n",
    "plt.xlabel('X-axis')\n",
    "plt.ylabel('Y-axis')\n",
    "plt.title('K-Mean Clustering')\n",
    "plt.legend()\n",
    "plt.show()"
   ]
  },
  {
   "cell_type": "code",
   "execution_count": null,
   "metadata": {},
   "outputs": [],
   "source": [
    "print(sse)"
   ]
  },
  {
   "cell_type": "code",
   "execution_count": null,
   "metadata": {},
   "outputs": [],
   "source": [
    "# Elbow Method and Silhoutte Score Plot\n",
    "plt.figure(figsize=(10,5))\n",
    "plt.subplot(1,2,1)\n",
    "plt.plot(range(2,(int(no_of_device/2)+ 1)),sse)\n",
    "plt.xticks(np.arange(2,(int(no_of_device/2)+ 1),50))\n",
    "plt.xlabel('Number of Clusters')\n",
    "plt.ylabel('Inertia')\n",
    "plt.title('Elbow Method for Cluster')\n",
    "plt.savefig('Elbow.png')\n",
    "\n",
    "plt.subplot(1,2,2)\n",
    "plt.plot(range(2,(int(no_of_device/2)+ 1)),silh_score)\n",
    "plt.xticks(np.arange(2,(int(no_of_device/2)+ 1),50))\n",
    "plt.xlabel('Number of Clusters')\n",
    "plt.ylabel('silhouette_score')\n",
    "plt.title('silhouette Score for Cluster')\n",
    "plt.savefig('silhouette_score.png')\n",
    "plt.show()"
   ]
  },
  {
   "cell_type": "code",
   "execution_count": null,
   "metadata": {},
   "outputs": [],
   "source": [
    "# NOMA Power Allocation\n",
    "\n",
    "def NOMA_Power(subchannel, index,location):\n",
    "    noma_power = np.zeros((subchannel, 2), dtype=float)\n",
    "    for k in range(subchannel):\n",
    "            if (location[index[k][0]][2] > location[index[k][1]][2]):\n",
    "                noma_power[k][0] = 0.75\n",
    "                noma_power[k][1] = 0.25\n",
    "            else:\n",
    "                noma_power[k][1] = 0.75\n",
    "                noma_power[k][0] = 0.25\n",
    "\n",
    "    return noma_power"
   ]
  },
  {
   "cell_type": "code",
   "execution_count": null,
   "metadata": {},
   "outputs": [],
   "source": [
    "def pol2cart(theta, rho):\n",
    "    x = rho * np.cos(theta)\n",
    "    y = rho * np.sin(theta)\n",
    "    return x, y"
   ]
  },
  {
   "cell_type": "code",
   "execution_count": null,
   "metadata": {},
   "outputs": [],
   "source": [
    "# UE Locations\n",
    "lambdaB = 10 ** (-7)\n",
    "areaTotal = np.pi * (10000)**2\n",
    "numbPoints = 1 + np.random.poisson(areaTotal * lambdaB)\n",
    "theta = 2 * np.pi * np.random.rand(numbPoints)\n",
    "rho = 1 + (10000 - 1) * np.sqrt(np.random.rand(numbPoints))\n",
    "xx, yy = pol2cart(theta, rho)\n",
    "print(xx,yy)\n",
    "points=1\n",
    "lambdaB1 = np.logspace(-7, -5, points)\n",
    "print(lambdaB1)\n"
   ]
  },
  {
   "cell_type": "code",
   "execution_count": null,
   "metadata": {},
   "outputs": [],
   "source": [
    "areaTotal"
   ]
  }
 ],
 "metadata": {
  "kernelspec": {
   "display_name": "Python 3",
   "language": "python",
   "name": "python3"
  },
  "language_info": {
   "codemirror_mode": {
    "name": "ipython",
    "version": 3
   },
   "file_extension": ".py",
   "mimetype": "text/x-python",
   "name": "python",
   "nbconvert_exporter": "python",
   "pygments_lexer": "ipython3",
   "version": "3.9.0"
  }
 },
 "nbformat": 4,
 "nbformat_minor": 2
}
